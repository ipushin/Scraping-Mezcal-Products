{
 "cells": [
  {
   "cell_type": "code",
   "execution_count": 35,
   "metadata": {},
   "outputs": [],
   "source": [
    "import pandas as pd\n",
    "import numpy as np\n",
    "import warnings\n",
    "warnings.filterwarnings('ignore')\n",
    "import re\n",
    "pd.set_option('display.max_columns', None)\n",
    "pd.set_option('display.max_rows', None)\n",
    "import re\n",
    "from datetime import date\n",
    "from itertools import cycle\n",
    "from func_timeout import func_timeout, FunctionTimedOut\n",
    "import pickle\n",
    "import pandas_dedupe\n",
    "from fuzzywuzzy import fuzz\n",
    "from fuzzywuzzy import process"
   ]
  },
  {
   "cell_type": "markdown",
   "metadata": {},
   "source": [
    "# Matching names"
   ]
  },
  {
   "cell_type": "markdown",
   "metadata": {},
   "source": [
    "### Reading all tables"
   ]
  },
  {
   "cell_type": "code",
   "execution_count": 36,
   "metadata": {},
   "outputs": [],
   "source": [
    "with open(\"rev_table_processed.pkl\", \"rb\") as fp:  \n",
    "    mezcal_rev = pickle.load(fp)"
   ]
  },
  {
   "cell_type": "code",
   "execution_count": 37,
   "metadata": {},
   "outputs": [],
   "source": [
    "mezcal_rev['origin'] = 'MR'"
   ]
  },
  {
   "cell_type": "code",
   "execution_count": 38,
   "metadata": {},
   "outputs": [],
   "source": [
    "rename_cols = {}    \n",
    "for col in mezcal_rev.columns:\n",
    "    if col != 'origin' and col!='Bottle Name':\n",
    "        rename_cols[col] = col+'_MR' "
   ]
  },
  {
   "cell_type": "code",
   "execution_count": 39,
   "metadata": {},
   "outputs": [],
   "source": [
    "mr_cols = ['Bottle Name', 'origin','Rating_MR', 'Cost_MR', 'Brand_MR', 'NOM_MR', 'Mezcalero_MR',\n",
    "           'Agave_MR', 'Distillation_MR', 'Style_MR', 'State_MR',\n",
    "           'Town_MR', 'ABV_MR', 'Website_MR', 'Image Link_MR', 'Review link_MR',]"
   ]
  },
  {
   "cell_type": "code",
   "execution_count": 40,
   "metadata": {},
   "outputs": [
    {
     "data": {
      "text/html": [
       "<div>\n",
       "<style scoped>\n",
       "    .dataframe tbody tr th:only-of-type {\n",
       "        vertical-align: middle;\n",
       "    }\n",
       "\n",
       "    .dataframe tbody tr th {\n",
       "        vertical-align: top;\n",
       "    }\n",
       "\n",
       "    .dataframe thead th {\n",
       "        text-align: right;\n",
       "    }\n",
       "</style>\n",
       "<table border=\"1\" class=\"dataframe\">\n",
       "  <thead>\n",
       "    <tr style=\"text-align: right;\">\n",
       "      <th></th>\n",
       "      <th>Bottle Name</th>\n",
       "      <th>origin</th>\n",
       "      <th>Rating_MR</th>\n",
       "      <th>Price_MR</th>\n",
       "      <th>Brand_MR</th>\n",
       "      <th>NOM_MR</th>\n",
       "      <th>Mezcalero_MR</th>\n",
       "      <th>Agave_MR</th>\n",
       "      <th>Destillation_MR</th>\n",
       "      <th>Style_MR</th>\n",
       "      <th>State_MR</th>\n",
       "      <th>Town_MR</th>\n",
       "      <th>ABV_MR</th>\n",
       "      <th>Website_MR</th>\n",
       "      <th>Image Link_MR</th>\n",
       "      <th>Bottle_link_MR</th>\n",
       "    </tr>\n",
       "  </thead>\n",
       "  <tbody>\n",
       "    <tr>\n",
       "      <th>0</th>\n",
       "      <td>Mitre Origen</td>\n",
       "      <td>MR</td>\n",
       "      <td>3</td>\n",
       "      <td>4.0</td>\n",
       "      <td>Mitre Mezcal</td>\n",
       "      <td>NOM-O338X</td>\n",
       "      <td>Don Tacho</td>\n",
       "      <td>Espadin</td>\n",
       "      <td>Copper</td>\n",
       "      <td>Joven</td>\n",
       "      <td>Oaxaca</td>\n",
       "      <td>Santiago Matatlan</td>\n",
       "      <td>37.5-40%</td>\n",
       "      <td>https://www.facebook.com/mezcalmitre/</td>\n",
       "      <td>https://www.mezcalreviews.com/wp-content/uploa...</td>\n",
       "      <td>https://www.mezcalreviews.com/mezcal/mitre-joven/</td>\n",
       "    </tr>\n",
       "  </tbody>\n",
       "</table>\n",
       "</div>"
      ],
      "text/plain": [
       "    Bottle Name origin Rating_MR  Price_MR      Brand_MR     NOM_MR  \\\n",
       "0  Mitre Origen     MR         3       4.0  Mitre Mezcal  NOM-O338X   \n",
       "\n",
       "  Mezcalero_MR Agave_MR Destillation_MR Style_MR State_MR            Town_MR  \\\n",
       "0    Don Tacho  Espadin          Copper    Joven   Oaxaca  Santiago Matatlan   \n",
       "\n",
       "     ABV_MR                             Website_MR  \\\n",
       "0  37.5-40%  https://www.facebook.com/mezcalmitre/   \n",
       "\n",
       "                                       Image Link_MR  \\\n",
       "0  https://www.mezcalreviews.com/wp-content/uploa...   \n",
       "\n",
       "                                      Bottle_link_MR  \n",
       "0  https://www.mezcalreviews.com/mezcal/mitre-joven/  "
      ]
     },
     "execution_count": 40,
     "metadata": {},
     "output_type": "execute_result"
    }
   ],
   "source": [
    "mezcal_rev = mezcal_rev.rename(columns=rename_cols)[mr_cols]\n",
    "mezcal_rev = mezcal_rev.rename(columns={'Cost_MR':'Price_MR','Distillation_MR':'Destillation_MR','Review link_MR':'Bottle_link_MR'})\n",
    "\n",
    "\n",
    "mezcal_rev.head(1)"
   ]
  },
  {
   "cell_type": "markdown",
   "metadata": {},
   "source": [
    "### old_tequila"
   ]
  },
  {
   "cell_type": "code",
   "execution_count": 41,
   "metadata": {},
   "outputs": [],
   "source": [
    "with open(\"old_tequila_processed.pkl\", \"rb\") as fp:  \n",
    "       old_tequila = pickle.load(fp)"
   ]
  },
  {
   "cell_type": "code",
   "execution_count": 42,
   "metadata": {},
   "outputs": [
    {
     "data": {
      "text/html": [
       "<div>\n",
       "<style scoped>\n",
       "    .dataframe tbody tr th:only-of-type {\n",
       "        vertical-align: middle;\n",
       "    }\n",
       "\n",
       "    .dataframe tbody tr th {\n",
       "        vertical-align: top;\n",
       "    }\n",
       "\n",
       "    .dataframe thead th {\n",
       "        text-align: right;\n",
       "    }\n",
       "</style>\n",
       "<table border=\"1\" class=\"dataframe\">\n",
       "  <thead>\n",
       "    <tr style=\"text-align: right;\">\n",
       "      <th></th>\n",
       "      <th>Bottle Name</th>\n",
       "      <th>origin</th>\n",
       "      <th>Price_OT</th>\n",
       "      <th>Brand_OT</th>\n",
       "      <th>Bottle Link_OT</th>\n",
       "      <th>Rating_OT</th>\n",
       "      <th>Image_OT</th>\n",
       "    </tr>\n",
       "  </thead>\n",
       "  <tbody>\n",
       "    <tr>\n",
       "      <th>0</th>\n",
       "      <td>400 Conejos Espadin Mezcal Artesanal</td>\n",
       "      <td>OT</td>\n",
       "      <td>$27.99</td>\n",
       "      <td>400 Conejos</td>\n",
       "      <td>https://www.oldtowntequila.com/400-conejos-esp...</td>\n",
       "      <td>3</td>\n",
       "      <td>https://cdn11.bigcommerce.com/s-u9ww3di/images...</td>\n",
       "    </tr>\n",
       "  </tbody>\n",
       "</table>\n",
       "</div>"
      ],
      "text/plain": [
       "                            Bottle Name origin Price_OT     Brand_OT  \\\n",
       "0  400 Conejos Espadin Mezcal Artesanal     OT   $27.99  400 Conejos   \n",
       "\n",
       "                                      Bottle Link_OT Rating_OT  \\\n",
       "0  https://www.oldtowntequila.com/400-conejos-esp...         3   \n",
       "\n",
       "                                            Image_OT  \n",
       "0  https://cdn11.bigcommerce.com/s-u9ww3di/images...  "
      ]
     },
     "execution_count": 42,
     "metadata": {},
     "output_type": "execute_result"
    }
   ],
   "source": [
    "old_tequila = old_tequila.rename(columns={'bot_link':'Bottle Link_OT', \n",
    "                                          'bot_brand':'Brand_OT',\n",
    "                                          'bot_price':'Price_OT',\n",
    "                                          'bot_rating':'Rating_OT',\n",
    "                                          'bot_name':'Bottle Name',\n",
    "                                          'bot_num_reviews':'# Reviews'})\n",
    "old_tequila['origin'] = 'OT'\n",
    "old_tequila = old_tequila[['Bottle Name', 'origin', 'Price_OT', 'Brand_OT','Bottle Link_OT', 'Rating_OT','Image_OT']]\n",
    "old_tequila.head(1)"
   ]
  },
  {
   "cell_type": "markdown",
   "metadata": {},
   "source": [
    "### mezcalia"
   ]
  },
  {
   "cell_type": "code",
   "execution_count": 43,
   "metadata": {},
   "outputs": [],
   "source": [
    "with open(\"mezcalia_df_processed.pkl\", \"rb\") as fp:  \n",
    "    mezcalia = pickle.load(fp)"
   ]
  },
  {
   "cell_type": "code",
   "execution_count": 44,
   "metadata": {},
   "outputs": [],
   "source": [
    "mezcalia = mezcalia.rename(columns={'website_link':'Bottle Link_MZ', \n",
    "                                    'bottle_price':'Price_MZ',\n",
    "                                    'agave':'Agave_MZ',\n",
    "                                    'ABV_etiq':'ABV_MZ',\n",
    "                                    'bottle_name':'Bottle_Name',\n",
    "                                    'destillation':'Destillation_MZ',\n",
    "                                    #'Style':'Style_MZ',\n",
    "                                    'aged':'Style_MZ',\n",
    "                                    'agave':'Agave_MZ',\n",
    "                                    'region':'State_MZ',\n",
    "                                    'main_img':'Image_MZ',\n",
    "                                    'bottle_name':'Bottle Name'\n",
    "                                   })\n",
    "mezcalia['origin'] = 'MZ'"
   ]
  },
  {
   "cell_type": "code",
   "execution_count": 45,
   "metadata": {},
   "outputs": [
    {
     "data": {
      "text/html": [
       "<div>\n",
       "<style scoped>\n",
       "    .dataframe tbody tr th:only-of-type {\n",
       "        vertical-align: middle;\n",
       "    }\n",
       "\n",
       "    .dataframe tbody tr th {\n",
       "        vertical-align: top;\n",
       "    }\n",
       "\n",
       "    .dataframe thead th {\n",
       "        text-align: right;\n",
       "    }\n",
       "</style>\n",
       "<table border=\"1\" class=\"dataframe\">\n",
       "  <thead>\n",
       "    <tr style=\"text-align: right;\">\n",
       "      <th></th>\n",
       "      <th>Bottle Name</th>\n",
       "      <th>origin</th>\n",
       "      <th>Price_MZ</th>\n",
       "      <th>ABV_MZ</th>\n",
       "      <th>Destillation_MZ</th>\n",
       "      <th>Style_MZ</th>\n",
       "      <th>Agave_MZ</th>\n",
       "      <th>State_MZ</th>\n",
       "      <th>Image_MZ</th>\n",
       "      <th>Bottle Link_MZ</th>\n",
       "    </tr>\n",
       "  </thead>\n",
       "  <tbody>\n",
       "    <tr>\n",
       "      <th>0</th>\n",
       "      <td>Mezcal Gin</td>\n",
       "      <td>MZ</td>\n",
       "      <td>750</td>\n",
       "      <td>40</td>\n",
       "      <td>destilado de metal</td>\n",
       "      <td>otros</td>\n",
       "      <td>cenizo</td>\n",
       "      <td>durango</td>\n",
       "      <td>https://mezcalia.com/wp-content/uploads/2017/0...</td>\n",
       "      <td>https://mezcalia.com/producto/mezcal-gin/</td>\n",
       "    </tr>\n",
       "  </tbody>\n",
       "</table>\n",
       "</div>"
      ],
      "text/plain": [
       "  Bottle Name origin Price_MZ ABV_MZ     Destillation_MZ Style_MZ Agave_MZ  \\\n",
       "0  Mezcal Gin     MZ      750     40  destilado de metal    otros   cenizo   \n",
       "\n",
       "  State_MZ                                           Image_MZ  \\\n",
       "0  durango  https://mezcalia.com/wp-content/uploads/2017/0...   \n",
       "\n",
       "                              Bottle Link_MZ  \n",
       "0  https://mezcalia.com/producto/mezcal-gin/  "
      ]
     },
     "execution_count": 45,
     "metadata": {},
     "output_type": "execute_result"
    }
   ],
   "source": [
    "MZ_cols = ['Bottle Name','origin','Price_MZ','ABV_MZ','Destillation_MZ',\n",
    "             'Style_MZ','Agave_MZ','State_MZ','Image_MZ','Bottle Link_MZ']\n",
    "mezcalia = mezcalia[MZ_cols]\n",
    "\n",
    "mezcalia.head(1)"
   ]
  },
  {
   "cell_type": "markdown",
   "metadata": {},
   "source": [
    "### Drizly"
   ]
  },
  {
   "cell_type": "code",
   "execution_count": 46,
   "metadata": {},
   "outputs": [],
   "source": [
    "with open(\"drizly_data_raw.pkl\", \"rb\") as fp:  \n",
    "    drizly = pickle.load(fp)"
   ]
  },
  {
   "cell_type": "code",
   "execution_count": 47,
   "metadata": {},
   "outputs": [],
   "source": [
    "drizly = drizly.rename(columns={'links':'Bottle Link_DZ', \n",
    "                                'price-one':'Price_DZ',\n",
    "                                'price-one-bottle':'Bottle ml_DZ',\n",
    "                                'price-two':'Price-two_DZ',\n",
    "                                'price-two-bottle':'Bottle-two ml_DZ',\n",
    "                                'Town':'Town_DZ',\n",
    "                                'rateing':'Rating_DZ',\n",
    "                                'ABV':'ABV_DZ',\n",
    "                                'Town':'Town_DZ',\n",
    "                                'name':'Bottle Name',\n",
    "                                'image':'Image_DZ'})\n",
    "drizly['origin'] = 'DRZL'"
   ]
  },
  {
   "cell_type": "code",
   "execution_count": 48,
   "metadata": {},
   "outputs": [],
   "source": [
    "drzl_cols = []\n",
    "for col in drizly.columns:\n",
    "    if 'Bottle Name' in col or 'origin' in col or 'DZ' in col:\n",
    "        drzl_cols.append(col)"
   ]
  },
  {
   "cell_type": "code",
   "execution_count": 49,
   "metadata": {},
   "outputs": [],
   "source": [
    "DZ_cols = ['Bottle Name','origin','Bottle Link_DZ','Image_DZ','Price_DZ','Bottle ml_DZ','Price-two_DZ',\n",
    "             'Bottle-two ml_DZ','ABV_DZ','Town_DZ','Rating_DZ']"
   ]
  },
  {
   "cell_type": "code",
   "execution_count": 50,
   "metadata": {},
   "outputs": [],
   "source": [
    "drizly = drizly[DZ_cols]"
   ]
  },
  {
   "cell_type": "markdown",
   "metadata": {},
   "source": [
    "### total_wine and missionliquor"
   ]
  },
  {
   "cell_type": "code",
   "execution_count": 51,
   "metadata": {},
   "outputs": [],
   "source": [
    "with open(\"total_wine_no_rev.pkl\", \"rb\") as fp:  \n",
    "    total_wine = pickle.load(fp)\n",
    "total_wine['origin'] = 'TW'"
   ]
  },
  {
   "cell_type": "code",
   "execution_count": 52,
   "metadata": {},
   "outputs": [],
   "source": [
    "with open(\"missionliquor_no_rev.pkl\", \"rb\") as fp:  \n",
    "    missionliquor = pickle.load(fp)\n",
    "missionliquor['origin'] = 'ML'"
   ]
  },
  {
   "cell_type": "code",
   "execution_count": 53,
   "metadata": {},
   "outputs": [],
   "source": [
    "with open(\"laeuropea_no_rev.pkl\", \"rb\") as fp:  \n",
    "    laeuropea = pickle.load(fp)\n",
    "cols = ['Bottle Name', 'origin', 'Price_LE', 'Region_LE', \n",
    "        'Bottle Link_LE','Image_LE', 'ABV_LE', 'Bottle_Volume_LE', 'Agave_LE']\n",
    "laeuropea['origin'] = 'LE'\n",
    "laeuropea = laeuropea[cols]"
   ]
  },
  {
   "cell_type": "code",
   "execution_count": 54,
   "metadata": {},
   "outputs": [],
   "source": [
    "with open(\"bodega_no_rev.pkl\", \"rb\") as fp:  \n",
    "    bodega = pickle.load(fp)\n",
    "bodega = bodega[['Bottle Link_BD', 'origin', 'Bottle Name', 'Price_BD', 'Image_BD', 'Bottle Volume_BD', 'ABV_BD']]"
   ]
  },
  {
   "cell_type": "code",
   "execution_count": 55,
   "metadata": {},
   "outputs": [],
   "source": [
    "with open(\"mercadode_no_rev.pkl\", \"rb\") as fp:  \n",
    "    mercadode = pickle.load(fp)\n",
    "mercadode = mercadode[['Bottle_Link_MD', 'origin', 'Bottle Name', 'Price_MD', 'Brand_MD','Image_MD', 'Bottle Volume_MD']]"
   ]
  },
  {
   "cell_type": "markdown",
   "metadata": {},
   "source": [
    "## Matching  Fuzzy Names"
   ]
  },
  {
   "cell_type": "markdown",
   "metadata": {},
   "source": [
    "#### processing names"
   ]
  },
  {
   "cell_type": "code",
   "execution_count": 56,
   "metadata": {},
   "outputs": [],
   "source": [
    "for table in [mezcal_rev, old_tequila, drizly, mezcalia, total_wine, missionliquor, laeuropea, bodega, mercadode]:\n",
    "    table['Bottle Name'] = table['Bottle Name'].str.lower().str.replace(r'(mezcal )','').str.replace(r'( mezcal)','')\n",
    "    table['Bottle Name'] = table['Bottle Name'].str.replace(r' \\d\\d\\dml | \\d\\d\\d ml','').str.replace(r' \\d\\d\\dml|\\d\\d\\d ML','')\n",
    "    table['Bottle Name'] = table['Bottle Name'].str.replace(r' \\d\\d\\dML| \\d\\d\\dmL','').str.replace(r' \\(\\d\\d\\dML\\)| \\(\\d\\d\\d ML\\)','')\n",
    "\n",
    "    table['Bottle Name'] = table['Bottle Name'].str.replace(r'( +)',' ').str.replace(r'( $|^ )','')\n",
    "    for idx in table.index:\n",
    "        table['Bottle Name'].loc[idx] = ' '.join([word[0].upper() + word[1:]  for word in str(table['Bottle Name'].loc[idx]).lower().split(' ')])"
   ]
  },
  {
   "cell_type": "markdown",
   "metadata": {},
   "source": [
    "#### merging"
   ]
  },
  {
   "cell_type": "code",
   "execution_count": 57,
   "metadata": {},
   "outputs": [
    {
     "data": {
      "text/plain": [
       "(2834, 2)"
      ]
     },
     "execution_count": 57,
     "metadata": {},
     "output_type": "execute_result"
    }
   ],
   "source": [
    "cols = ['Bottle Name','origin']\n",
    "products = pd.concat([mezcal_rev[cols], \n",
    "                      old_tequila[cols], \n",
    "                      drizly[cols], \n",
    "                      mezcalia[cols], \n",
    "                      total_wine[cols], \n",
    "                      missionliquor[cols],\n",
    "                      laeuropea[cols],\n",
    "                      bodega[cols], \n",
    "                      mercadode[cols]\n",
    "                     ], axis=0, ignore_index=True)\n",
    "products.shape"
   ]
  },
  {
   "cell_type": "markdown",
   "metadata": {},
   "source": [
    "#### deduplicating"
   ]
  },
  {
   "cell_type": "code",
   "execution_count": 58,
   "metadata": {},
   "outputs": [
    {
     "data": {
      "text/plain": [
       "(1909, 2)"
      ]
     },
     "execution_count": 58,
     "metadata": {},
     "output_type": "execute_result"
    }
   ],
   "source": [
    "test = products.copy()\n",
    "test['Bottle Name'] = test['Bottle Name'].str.lower().str.replace(r'(mezcal )','').str.replace(r'( mezcal)','')\n",
    "idx = test[test.duplicated(subset=['Bottle Name'], keep='last')].index.to_list()\n",
    "products = products.drop(idx).reset_index(drop=True)\n",
    "products.shape"
   ]
  },
  {
   "cell_type": "code",
   "execution_count": 59,
   "metadata": {},
   "outputs": [],
   "source": [
    "products['Match_MR'] = np.nan\n",
    "products['Match_OT'] = np.nan\n",
    "products['Match_DRZL'] = np.nan\n",
    "products['Match_MZ'] = np.nan\n",
    "products['Match_ML'] = np.nan\n",
    "products['Match_TW'] = np.nan\n",
    "products['Match_LE'] = np.nan\n",
    "products['Match_BD'] = np.nan\n",
    "products['Match_MD'] = np.nan"
   ]
  },
  {
   "cell_type": "code",
   "execution_count": 60,
   "metadata": {},
   "outputs": [
    {
     "name": "stdout",
     "output_type": "stream",
     "text": [
      "CPU times: user 16min 17s, sys: 7.09 s, total: 16min 24s\n",
      "Wall time: 18min 2s\n"
     ]
    }
   ],
   "source": [
    "%%time\n",
    "for i in range(products.shape[0]): \n",
    "    for match_name in old_tequila['Bottle Name']:\n",
    "        key_name = products['Bottle Name'].loc[i]\n",
    "        if products['origin'].loc[i] != 'OT' and fuzz.token_set_ratio(key_name, match_name) == 100:\n",
    "            products['Match_OT'].loc[i] = match_name\n",
    "            pass\n",
    "    \n",
    "    for match_name in drizly['Bottle Name']:\n",
    "        key_name = products['Bottle Name'].loc[i]\n",
    "        if products['origin'].loc[i] !='DRZL' and fuzz.token_set_ratio(key_name, match_name) == 100:\n",
    "            products['Match_DRZL'].loc[i] = match_name\n",
    "            pass\n",
    "    \n",
    "    for match_name in mezcalia['Bottle Name']:\n",
    "        key_name = products['Bottle Name'].loc[i]\n",
    "        if products['origin'].loc[i] !='MZ' and fuzz.token_set_ratio(key_name, match_name) == 100:\n",
    "            products['Match_MZ'].loc[i] = match_name\n",
    "            pass\n",
    "    \n",
    "    for match_name in mezcal_rev['Bottle Name']:\n",
    "        key_name = products['Bottle Name'].loc[i]\n",
    "        if  products['origin'].loc[i] !='MR' and fuzz.token_set_ratio(key_name, match_name) == 100:\n",
    "            products['Match_MR'].loc[i] = match_name\n",
    "            pass\n",
    "    \n",
    "    for match_name in total_wine['Bottle Name']:\n",
    "        key_name = products['Bottle Name'].loc[i]\n",
    "        if  products['origin'].loc[i] !='TW' and fuzz.token_set_ratio(key_name, match_name) == 100:\n",
    "            products['Match_TW'].loc[i] = match_name\n",
    "            pass\n",
    "    \n",
    "    for match_name in missionliquor['Bottle Name']:\n",
    "        key_name = products['Bottle Name'].loc[i]\n",
    "        if  products['origin'].loc[i] !='ML' and fuzz.token_set_ratio(key_name, match_name) == 100:\n",
    "            products['Match_ML'].loc[i] = match_name\n",
    "            pass\n",
    "    \n",
    "    for match_name in laeuropea['Bottle Name']:\n",
    "        key_name = products['Bottle Name'].loc[i]\n",
    "        if  products['origin'].loc[i] !='LE' and fuzz.token_set_ratio(key_name, match_name) == 100:\n",
    "            products['Match_LE'].loc[i] = match_name\n",
    "            pass\n",
    "    \n",
    "    for match_name in bodega['Bottle Name']:\n",
    "        key_name = products['Bottle Name'].loc[i]\n",
    "        if  products['origin'].loc[i] !='BD' and fuzz.token_set_ratio(key_name, match_name) == 100:\n",
    "            products['Match_BD'].loc[i] = match_name\n",
    "            pass\n",
    "    \n",
    "    for match_name in mercadode['Bottle Name']:\n",
    "        key_name = products['Bottle Name'].loc[i]\n",
    "        if  products['origin'].loc[i] !='MD' and fuzz.token_set_ratio(key_name, match_name) == 100:\n",
    "            products['Match_MD'].loc[i] = match_name\n",
    "            pass"
   ]
  },
  {
   "cell_type": "code",
   "execution_count": 61,
   "metadata": {},
   "outputs": [],
   "source": [
    "with open('products_raw.pkl','wb') as f:\n",
    "    pickle.dump(products, f)"
   ]
  },
  {
   "cell_type": "code",
   "execution_count": 62,
   "metadata": {},
   "outputs": [
    {
     "data": {
      "text/plain": [
       "(1909, 11)"
      ]
     },
     "execution_count": 62,
     "metadata": {},
     "output_type": "execute_result"
    }
   ],
   "source": [
    "with open('products_raw.pkl','rb') as f:\n",
    "    products = pickle.load(f)\n",
    "products.shape"
   ]
  },
  {
   "cell_type": "markdown",
   "metadata": {},
   "source": [
    "## Deduplicating "
   ]
  },
  {
   "cell_type": "markdown",
   "metadata": {},
   "source": [
    "#### Searching for duplicates in Bottle Names and Matches"
   ]
  },
  {
   "cell_type": "code",
   "execution_count": 63,
   "metadata": {},
   "outputs": [],
   "source": [
    "products_dedup = products.copy()"
   ]
  },
  {
   "cell_type": "code",
   "execution_count": 64,
   "metadata": {},
   "outputs": [
    {
     "data": {
      "text/plain": [
       "(1438, 11)"
      ]
     },
     "execution_count": 64,
     "metadata": {},
     "output_type": "execute_result"
    }
   ],
   "source": [
    "MR_dupl = [name for name in products_dedup['Match_MR'].unique() if name in products_dedup['Bottle Name'].unique()]\n",
    "products_dedup = products_dedup[~products_dedup['Bottle Name'].isin(MR_dupl[1:])]\n",
    "products_dedup.shape"
   ]
  },
  {
   "cell_type": "code",
   "execution_count": 65,
   "metadata": {},
   "outputs": [
    {
     "data": {
      "text/plain": [
       "(1285, 11)"
      ]
     },
     "execution_count": 65,
     "metadata": {},
     "output_type": "execute_result"
    }
   ],
   "source": [
    "OT_dupl = [name for name in products_dedup['Match_OT'].unique() if name in products_dedup['Bottle Name'].unique()]\n",
    "products_dedup = products_dedup[~products_dedup['Bottle Name'].isin(OT_dupl[1:])]\n",
    "products_dedup.shape"
   ]
  },
  {
   "cell_type": "code",
   "execution_count": 66,
   "metadata": {},
   "outputs": [
    {
     "data": {
      "text/plain": [
       "(1248, 11)"
      ]
     },
     "execution_count": 66,
     "metadata": {},
     "output_type": "execute_result"
    }
   ],
   "source": [
    "DRZL_dupl = [name for name in products_dedup['Match_DRZL'].unique() if name in products_dedup['Bottle Name'].unique()]\n",
    "products_dedup = products_dedup[~products_dedup['Bottle Name'].isin(DRZL_dupl[1:])]\n",
    "products_dedup.shape"
   ]
  },
  {
   "cell_type": "code",
   "execution_count": 67,
   "metadata": {},
   "outputs": [
    {
     "data": {
      "text/plain": [
       "(1238, 11)"
      ]
     },
     "execution_count": 67,
     "metadata": {},
     "output_type": "execute_result"
    }
   ],
   "source": [
    "MZ_dupl = [name for name in products_dedup['Match_MZ'].unique() if name in products_dedup['Bottle Name'].unique()]\n",
    "products_dedup = products_dedup[~products_dedup['Bottle Name'].isin(MZ_dupl[1:])]\n",
    "products_dedup.shape"
   ]
  },
  {
   "cell_type": "code",
   "execution_count": 68,
   "metadata": {},
   "outputs": [
    {
     "data": {
      "text/plain": [
       "(1213, 11)"
      ]
     },
     "execution_count": 68,
     "metadata": {},
     "output_type": "execute_result"
    }
   ],
   "source": [
    "ML_dupl = [name for name in products_dedup['Match_ML'].unique() if name in products_dedup['Bottle Name'].unique()]\n",
    "products_dedup = products_dedup[~products_dedup['Bottle Name'].isin(ML_dupl[1:])]\n",
    "products_dedup.shape"
   ]
  },
  {
   "cell_type": "code",
   "execution_count": 69,
   "metadata": {},
   "outputs": [
    {
     "data": {
      "text/plain": [
       "(1201, 11)"
      ]
     },
     "execution_count": 69,
     "metadata": {},
     "output_type": "execute_result"
    }
   ],
   "source": [
    "LE_dupl = [name for name in products_dedup['Match_LE'].unique() if name in products_dedup['Bottle Name'].unique()]\n",
    "products_dedup = products_dedup[~products_dedup['Bottle Name'].isin(LE_dupl[1:])]\n",
    "products_dedup.shape"
   ]
  },
  {
   "cell_type": "code",
   "execution_count": 70,
   "metadata": {},
   "outputs": [
    {
     "data": {
      "text/plain": [
       "(1199, 11)"
      ]
     },
     "execution_count": 70,
     "metadata": {},
     "output_type": "execute_result"
    }
   ],
   "source": [
    "BD_dupl = [name for name in products_dedup['Match_BD'].unique() if name in products_dedup['Bottle Name'].unique()]\n",
    "products_dedup = products_dedup[~products_dedup['Bottle Name'].isin(BD_dupl[1:])]\n",
    "products_dedup.shape"
   ]
  },
  {
   "cell_type": "code",
   "execution_count": 71,
   "metadata": {},
   "outputs": [
    {
     "data": {
      "text/plain": [
       "(1195, 11)"
      ]
     },
     "execution_count": 71,
     "metadata": {},
     "output_type": "execute_result"
    }
   ],
   "source": [
    "MD_dupl = [name for name in products_dedup['Match_MD'].unique() if name in products_dedup['Bottle Name'].unique()]\n",
    "products_dedup = products_dedup[~products_dedup['Bottle Name'].isin(MD_dupl[1:])]\n",
    "products_dedup.shape"
   ]
  },
  {
   "cell_type": "code",
   "execution_count": 72,
   "metadata": {},
   "outputs": [],
   "source": [
    "#products.sort_values('Bottle Name')['Bottle Name']"
   ]
  },
  {
   "cell_type": "markdown",
   "metadata": {},
   "source": [
    "# Merging all tables"
   ]
  },
  {
   "cell_type": "code",
   "execution_count": 73,
   "metadata": {},
   "outputs": [
    {
     "data": {
      "text/plain": [
       "(1195, 11)"
      ]
     },
     "execution_count": 73,
     "metadata": {},
     "output_type": "execute_result"
    }
   ],
   "source": [
    "mezcalia.dropna(subset=['Bottle Name'],inplace=True)\n",
    "products_dedup.dropna(subset=['Bottle Name'],inplace=True)\n",
    "products_dedup.shape"
   ]
  },
  {
   "cell_type": "code",
   "execution_count": 74,
   "metadata": {},
   "outputs": [],
   "source": [
    "all_tables = pd.concat([mezcal_rev, \n",
    "                        old_tequila, \n",
    "                        drizly, \n",
    "                        mezcalia,\n",
    "                        total_wine, \n",
    "                        missionliquor,\n",
    "                        laeuropea,\n",
    "                        bodega, \n",
    "                        mercadode], axis=0, ignore_index=True)"
   ]
  },
  {
   "cell_type": "code",
   "execution_count": 75,
   "metadata": {},
   "outputs": [],
   "source": [
    "all_tables.drop_duplicates(subset=['Bottle Name'], keep='first', inplace=True)\n",
    "drizly.drop_duplicates(subset=['Bottle Name'], keep='first', inplace=True)\n",
    "total_wine.drop_duplicates(subset=['Bottle Name'], keep='first', inplace=True)"
   ]
  },
  {
   "cell_type": "code",
   "execution_count": 76,
   "metadata": {},
   "outputs": [
    {
     "data": {
      "text/plain": [
       "(1195, 73)"
      ]
     },
     "execution_count": 76,
     "metadata": {},
     "output_type": "execute_result"
    }
   ],
   "source": [
    "main_merge = pd.merge(products_dedup, all_tables, on=['Bottle Name', 'origin'], how='left', )\n",
    "main_merge.shape\n",
    "rename_cols = {}\n",
    "for col in main_merge.columns[8:]:\n",
    "    rename_cols[col] = col+'_keep'\n",
    "main_merge = main_merge.rename(columns={'Bottle Name':'Bottle Name_MAIN','origin':'Origin_MAIN'})\n",
    "main_merge.shape"
   ]
  },
  {
   "cell_type": "code",
   "execution_count": 77,
   "metadata": {},
   "outputs": [
    {
     "data": {
      "text/plain": [
       "(1195, 89)"
      ]
     },
     "execution_count": 77,
     "metadata": {},
     "output_type": "execute_result"
    }
   ],
   "source": [
    "merge_MR = pd.merge(main_merge, \n",
    "                     mezcal_rev, \n",
    "                     left_on=['Match_MR'],\n",
    "                     right_on=['Bottle Name'], suffixes=('_gone', '_keep'),\n",
    "                     how='left')\n",
    "merge_MR.shape"
   ]
  },
  {
   "cell_type": "code",
   "execution_count": 78,
   "metadata": {},
   "outputs": [],
   "source": [
    "#main_merge[main_merge['Origin_MAIN'] == 'LE'][['Price_LE_keep','Price_OT_keep']]"
   ]
  },
  {
   "cell_type": "code",
   "execution_count": 79,
   "metadata": {},
   "outputs": [
    {
     "data": {
      "text/plain": [
       "(1196, 96)"
      ]
     },
     "execution_count": 79,
     "metadata": {},
     "output_type": "execute_result"
    }
   ],
   "source": [
    "merge_OT = pd.merge(merge_MR, \n",
    "                   old_tequila, \n",
    "                   left_on=['Match_OT'], \n",
    "                   right_on=['Bottle Name'], suffixes=('_gone', '_keep'),\n",
    "                   how='left')\n",
    "merge_OT.shape"
   ]
  },
  {
   "cell_type": "code",
   "execution_count": 80,
   "metadata": {},
   "outputs": [
    {
     "data": {
      "text/plain": [
       "(1196, 107)"
      ]
     },
     "execution_count": 80,
     "metadata": {},
     "output_type": "execute_result"
    }
   ],
   "source": [
    "merge_DRZL = pd.merge(merge_OT, \n",
    "             drizly, \n",
    "             left_on=['Match_DRZL'], \n",
    "             right_on=['Bottle Name'], suffixes=('_gone', '_keep'),\n",
    "             how='left')\n",
    "merge_DRZL.shape"
   ]
  },
  {
   "cell_type": "code",
   "execution_count": 81,
   "metadata": {},
   "outputs": [
    {
     "data": {
      "text/plain": [
       "(1196, 117)"
      ]
     },
     "execution_count": 81,
     "metadata": {},
     "output_type": "execute_result"
    }
   ],
   "source": [
    "merge_MZ = pd.merge(merge_DRZL, \n",
    "             mezcalia, \n",
    "             left_on=['Match_MZ'], \n",
    "             right_on=['Bottle Name'], suffixes=('_gone', '_keep'),\n",
    "             how='left')\n",
    "merge_MZ.shape"
   ]
  },
  {
   "cell_type": "code",
   "execution_count": 82,
   "metadata": {},
   "outputs": [
    {
     "data": {
      "text/plain": [
       "(1196, 125)"
      ]
     },
     "execution_count": 82,
     "metadata": {},
     "output_type": "execute_result"
    }
   ],
   "source": [
    "merge_TW = pd.merge(merge_MZ, \n",
    "             total_wine, \n",
    "             left_on=['Match_TW'], \n",
    "             right_on=['Bottle Name'], suffixes=('_gone', '_keep'),\n",
    "             how='left')\n",
    "merge_TW.shape"
   ]
  },
  {
   "cell_type": "code",
   "execution_count": 83,
   "metadata": {},
   "outputs": [
    {
     "data": {
      "text/plain": [
       "(1197, 134)"
      ]
     },
     "execution_count": 83,
     "metadata": {},
     "output_type": "execute_result"
    }
   ],
   "source": [
    "merge_LE = pd.merge(merge_TW, \n",
    "                    laeuropea, \n",
    "                    left_on=['Match_LE'], \n",
    "                    right_on=['Bottle Name'], suffixes=('_gone', '_keep'),\n",
    "                    how='left')\n",
    "merge_LE.shape"
   ]
  },
  {
   "cell_type": "code",
   "execution_count": 84,
   "metadata": {},
   "outputs": [
    {
     "data": {
      "text/plain": [
       "(1198, 141)"
      ]
     },
     "execution_count": 84,
     "metadata": {},
     "output_type": "execute_result"
    }
   ],
   "source": [
    "merge_BD = pd.merge(merge_LE, \n",
    "             bodega, \n",
    "             left_on=['Match_BD'], \n",
    "             right_on=['Bottle Name'], suffixes=('_gone', '_keep'),\n",
    "             how='left')\n",
    "merge_BD.shape"
   ]
  },
  {
   "cell_type": "code",
   "execution_count": 85,
   "metadata": {},
   "outputs": [
    {
     "data": {
      "text/plain": [
       "(1200, 148)"
      ]
     },
     "execution_count": 85,
     "metadata": {},
     "output_type": "execute_result"
    }
   ],
   "source": [
    "merge_MD = pd.merge(merge_BD, \n",
    "             mercadode, \n",
    "             left_on=['Match_MD'], \n",
    "             right_on=['Bottle Name'], suffixes=('_gone', '_keep'),\n",
    "             how='left')\n",
    "merge_MD.shape"
   ]
  },
  {
   "cell_type": "code",
   "execution_count": 86,
   "metadata": {},
   "outputs": [
    {
     "data": {
      "text/plain": [
       "(1200, 153)"
      ]
     },
     "execution_count": 86,
     "metadata": {},
     "output_type": "execute_result"
    }
   ],
   "source": [
    "merge_ML = pd.merge(merge_MD, \n",
    "             missionliquor, \n",
    "             left_on=['Match_ML'], \n",
    "             right_on=['Bottle Name'], suffixes=('_gone', '_keep'),\n",
    "             how='left')\n",
    "merge_ML.shape"
   ]
  },
  {
   "cell_type": "code",
   "execution_count": 87,
   "metadata": {},
   "outputs": [],
   "source": [
    "# dropping Names and Origins\n",
    "del_cols = []\n",
    "for col in merge_ML.columns:\n",
    "    if ('Bottle Name' in col or 'origin' in col) and 'MAIN' not in col:\n",
    "        del_cols.append(col)  \n",
    "merge_ML = merge_ML.drop(columns = del_cols)"
   ]
  },
  {
   "cell_type": "code",
   "execution_count": 88,
   "metadata": {},
   "outputs": [
    {
     "name": "stdout",
     "output_type": "stream",
     "text": [
      "CPU times: user 54 ms, sys: 1.98 ms, total: 56 ms\n",
      "Wall time: 57.3 ms\n"
     ]
    }
   ],
   "source": [
    "%%time\n",
    "cols_pairs = []\n",
    "for left_col in merge_ML.columns[8:]:\n",
    "    for right_col in merge_ML.columns[8:]:\n",
    "        if  '_gone' in left_col and left_col[0:-5]==right_col[0:-5] and left_col!=right_col: \n",
    "            pair = (left_col, right_col)\n",
    "            cols_pairs.append(pair)\n",
    "drop_cols = []\n",
    "rename_cols = {}\n",
    "for col_pair in cols_pairs:\n",
    "    merge_ML[col_pair[1]].fillna(merge_ML[col_pair[0]], inplace=True)\n",
    "    drop_cols.append(col_pair[0])\n",
    "    rename_cols[col_pair[1]] = col_pair[1][0:-5]"
   ]
  },
  {
   "cell_type": "code",
   "execution_count": 89,
   "metadata": {},
   "outputs": [
    {
     "data": {
      "text/plain": [
       "(1200, 73)"
      ]
     },
     "execution_count": 89,
     "metadata": {},
     "output_type": "execute_result"
    }
   ],
   "source": [
    "merge_ML = merge_ML.replace({'nan':np.nan}).replace({'nan':np.nan,', , ,':','}, regex=True)\n",
    "merge_ML = merge_ML.drop(columns=drop_cols).rename(columns=rename_cols)\n",
    "merge_ML.shape"
   ]
  },
  {
   "cell_type": "markdown",
   "metadata": {},
   "source": [
    "#### checking if inintial merge with retailers is correct"
   ]
  },
  {
   "cell_type": "code",
   "execution_count": 90,
   "metadata": {},
   "outputs": [],
   "source": [
    "check_cols = ['Bottle Name_MAIN','Match_MR', 'Match_OT','Match_DRZL', 'Match_MZ', 'Match_ML', 'Match_TW','Style_MR',\n",
    "              'Style_MZ','Brand_OT','Brand_MR', 'Agave_MR','Agave_MZ','ABV_MZ','ABV_DZ','ABV_MR','Town_DZ','Town_MR',\n",
    "              'State_MR','State_MZ',]\n",
    "test_merge = merge_ML[~merge_ML['Agave_MZ'].isna()][check_cols]"
   ]
  },
  {
   "cell_type": "code",
   "execution_count": 91,
   "metadata": {},
   "outputs": [],
   "source": [
    "for col in check_cols:\n",
    "    test_merge[col] = test_merge[col].astype(str).str.lower().str.replace(r'(mezcal )','').str.replace(r'( mezcal)','')"
   ]
  },
  {
   "cell_type": "code",
   "execution_count": 92,
   "metadata": {},
   "outputs": [],
   "source": [
    "#test_merge['Match_MR'][100], merge_ML['Match_MR'][100]"
   ]
  },
  {
   "cell_type": "code",
   "execution_count": 93,
   "metadata": {},
   "outputs": [
    {
     "name": "stdout",
     "output_type": "stream",
     "text": [
      "rio revuelto - nan\n",
      "gin mg - nan\n",
      "quiquiriqui - nan\n",
      "el yope - el yope \n",
      "nan - benesin\n",
      "nan - alipus \n",
      "convite - nan\n",
      "los cuerudos - nan\n",
      "nan - el yope \n",
      "cuishes - nan\n",
      "iba - nan\n",
      "cuishes - nan\n",
      "iba - nan\n",
      "burrito fiestero - nan\n",
      "burrito fiestero - nan\n",
      "alipus - nan\n"
     ]
    }
   ],
   "source": [
    "idx_odd = []\n",
    "for i in test_merge[(~test_merge['Agave_MR'].isna()) & (~test_merge['Agave_MZ'].isna())].index:\n",
    "    if test_merge['Agave_MR'].loc[i] != test_merge['Agave_MZ'].loc[i]:\n",
    "        #print(test_merge['Agave_MR'].loc[i],'-', test_merge['Agave_MZ'].loc[i])\n",
    "        idx_odd.append(i)\n",
    "\n",
    "for i in test_merge[(~test_merge['Brand_MR'].isna()) & (~test_merge['Brand_OT'].isna())].index:\n",
    "    if test_merge['Brand_MR'].loc[i] != test_merge['Brand_OT'].loc[i]:\n",
    "        print(test_merge['Brand_MR'].loc[i],'-', test_merge['Brand_OT'].loc[i])\n",
    "        idx_odd.append(i)    "
   ]
  },
  {
   "cell_type": "markdown",
   "metadata": {},
   "source": [
    "#### Blending columns in one"
   ]
  },
  {
   "cell_type": "code",
   "execution_count": 94,
   "metadata": {},
   "outputs": [],
   "source": [
    "cols = []\n",
    "for col in merge_ML.columns[8:]:\n",
    "    for neighbor in merge_ML.columns:\n",
    "        if col[:-3] == neighbor[:-3] and col !=neighbor and col not in cols and neighbor not in cols:\n",
    "            cols.append(col)\n",
    "            cols.append(neighbor)\n",
    "\n",
    "for col in merge_ML.columns[8:]:\n",
    "    if col not in cols:\n",
    "        cols.append(col)"
   ]
  },
  {
   "cell_type": "code",
   "execution_count": 95,
   "metadata": {},
   "outputs": [],
   "source": [
    "drop_cols = []\n",
    "rename_cols = {}\n",
    "for col in ['ABV','Agave','Brand','Destillation','Style','Town','State']:\n",
    "    pat = col+'\\_[A-Z]{2}'\n",
    "    sim_cols = re.findall(pat,','.join(cols))\n",
    "    cols_del = sim_cols[1:]\n",
    "    drop_cols.extend(cols_del)\n",
    "    keep_col = sim_cols[0]\n",
    "    rename_cols[keep_col] = col\n",
    "    for fill_col in cols_del:\n",
    "        merge_ML[keep_col].fillna(merge_ML[fill_col], inplace=True)\n",
    "    \n",
    "merge_ML.drop(columns=drop_cols,inplace=True)\n",
    "merge_ML=merge_ML.rename(columns=rename_cols)"
   ]
  },
  {
   "cell_type": "code",
   "execution_count": 96,
   "metadata": {},
   "outputs": [],
   "source": [
    "all_cols = merge_ML.columns[0:8].to_list()\n",
    "all_cols.extend(sorted(merge_ML.columns[8:]))"
   ]
  },
  {
   "cell_type": "code",
   "execution_count": 97,
   "metadata": {},
   "outputs": [],
   "source": [
    "merge_ML = merge_ML[all_cols]"
   ]
  },
  {
   "cell_type": "code",
   "execution_count": 98,
   "metadata": {},
   "outputs": [
    {
     "data": {
      "text/plain": [
       "(426, 60)"
      ]
     },
     "execution_count": 98,
     "metadata": {},
     "output_type": "execute_result"
    }
   ],
   "source": [
    "merge_ML[(merge_ML['Price_DZ'].isna()) &\n",
    "         (merge_ML['Price_OT'].isna()) &\n",
    "         (merge_ML['Price_ML'].isna()) &\n",
    "         (merge_ML['Price_TW'].isna()) &\n",
    "         (merge_ML['Price_MZ'].isna())].shape"
   ]
  },
  {
   "cell_type": "markdown",
   "metadata": {},
   "source": [
    "# Postprocessing"
   ]
  },
  {
   "cell_type": "code",
   "execution_count": 99,
   "metadata": {},
   "outputs": [],
   "source": [
    "df = merge_ML.copy()"
   ]
  },
  {
   "cell_type": "code",
   "execution_count": 100,
   "metadata": {},
   "outputs": [],
   "source": [
    "df = df.rename(columns = {'Bottle Name_MAIN':'Bottle Name','Origin_MAIN':'Origin','Image Link_MR':'Image_MR',\n",
    "                         'Mezcalero_MR':'Mezcalero','Website_MR':'Brand Website','NOM_MR':'NOM'})"
   ]
  },
  {
   "cell_type": "code",
   "execution_count": 101,
   "metadata": {},
   "outputs": [
    {
     "data": {
      "text/plain": [
       "(1189, 59)"
      ]
     },
     "execution_count": 101,
     "metadata": {},
     "output_type": "execute_result"
    }
   ],
   "source": [
    "df.drop(columns=['Taste_TW'], inplace=True)\n",
    "df.dropna(subset=['Bottle Name'], inplace=True)\n",
    "df = df[~df['Bottle Name'].astype(str).str.lower().str.contains(r'caddy|regal')]\n",
    "df.shape"
   ]
  },
  {
   "cell_type": "markdown",
   "metadata": {},
   "source": [
    "#### duplicates"
   ]
  },
  {
   "cell_type": "code",
   "execution_count": 102,
   "metadata": {},
   "outputs": [
    {
     "data": {
      "text/plain": [
       "(1168, 59)"
      ]
     },
     "execution_count": 102,
     "metadata": {},
     "output_type": "execute_result"
    }
   ],
   "source": [
    "df['Bottle Name'] = df['Bottle Name'].str.replace('ñ','n').str.replace('á','a').str.replace('í','i').str.replace('ó','o').str.replace('Á','A').str.replace('ã','a')\n",
    "df.drop_duplicates(subset=['Bottle Name'], keep='first', inplace=True)\n",
    "df.dropna(subset=['Bottle Name'], inplace=True)\n",
    "df.shape"
   ]
  },
  {
   "cell_type": "code",
   "execution_count": 103,
   "metadata": {},
   "outputs": [
    {
     "name": "stdout",
     "output_type": "stream",
     "text": [
      "importing data ...\n",
      "reading from dedupe_dataframe_learned_settings\n",
      "clustering...\n",
      "# duplicate sets 74\n"
     ]
    },
    {
     "data": {
      "text/plain": [
       "52"
      ]
     },
     "execution_count": 103,
     "metadata": {},
     "output_type": "execute_result"
    }
   ],
   "source": [
    "test = df.copy()\n",
    "dedup_test = pandas_dedupe.dedupe_dataframe(test,['Bottle Name'])\n",
    "idx = dedup_test[(dedup_test['confidence']>0.5) & (~dedup_test['Bottle Name'].fillna('').str.contains(r'(\\d$)'))].index.to_list()\n",
    "len(idx)"
   ]
  },
  {
   "cell_type": "code",
   "execution_count": 104,
   "metadata": {},
   "outputs": [
    {
     "name": "stdout",
     "output_type": "stream",
     "text": [
      "CPU times: user 585 ms, sys: 4.72 ms, total: 590 ms\n",
      "Wall time: 593 ms\n"
     ]
    }
   ],
   "source": [
    "%%time\n",
    "idx_del=[]\n",
    "for idx_one in idx:\n",
    "    for idx_two in idx:\n",
    "        if fuzz.token_set_ratio(test['Bottle Name'].loc[idx_one], test['Bottle Name'].loc[idx_two]) > 90 and idx_one!=idx_two and idx_two not in idx_del and idx_one not in idx_del:\n",
    "            idx_del.append(idx_two)"
   ]
  },
  {
   "cell_type": "code",
   "execution_count": 105,
   "metadata": {},
   "outputs": [
    {
     "data": {
      "text/plain": [
       "24"
      ]
     },
     "execution_count": 105,
     "metadata": {},
     "output_type": "execute_result"
    }
   ],
   "source": [
    "idx_keep = [x for x in idx if x not in idx_del]\n",
    "len(idx_del)"
   ]
  },
  {
   "cell_type": "code",
   "execution_count": 106,
   "metadata": {},
   "outputs": [],
   "source": [
    "#df.loc[idx_del]"
   ]
  },
  {
   "cell_type": "code",
   "execution_count": 107,
   "metadata": {},
   "outputs": [
    {
     "data": {
      "text/plain": [
       "(1144, 59)"
      ]
     },
     "execution_count": 107,
     "metadata": {},
     "output_type": "execute_result"
    }
   ],
   "source": [
    "df.drop(idx_del, inplace=True)\n",
    "df.shape"
   ]
  },
  {
   "cell_type": "code",
   "execution_count": 108,
   "metadata": {},
   "outputs": [
    {
     "data": {
      "text/plain": [
       "(1144, 59)"
      ]
     },
     "execution_count": 108,
     "metadata": {},
     "output_type": "execute_result"
    }
   ],
   "source": [
    "df.shape"
   ]
  },
  {
   "cell_type": "markdown",
   "metadata": {},
   "source": [
    "#### ABV"
   ]
  },
  {
   "cell_type": "code",
   "execution_count": 109,
   "metadata": {},
   "outputs": [],
   "source": [
    "df['ABV'] = df['ABV'].str.extract(r'(\\d.+(?=%))')\n",
    "df['ABV'] = df['ABV'].str.extract(r'(\\d+\\.\\d|\\d.+(?=\\-)|\\d+)')\n",
    "df['ABV'] = df['ABV'].str.replace('%','').astype(float)"
   ]
  },
  {
   "cell_type": "code",
   "execution_count": 110,
   "metadata": {},
   "outputs": [],
   "source": [
    "df['ABV'] = df['ABV'].apply(lambda x: np.nan if x < 20 else x)"
   ]
  },
  {
   "cell_type": "markdown",
   "metadata": {},
   "source": [
    "#### Ml in Name"
   ]
  },
  {
   "cell_type": "code",
   "execution_count": 111,
   "metadata": {},
   "outputs": [],
   "source": [
    "df['Bottle Name'] = df['Bottle Name'].str.replace(r' \\d\\d\\dml | \\d\\d\\d ml','').str.replace(r' \\d\\d\\dml|\\d\\d\\d ML','')\n",
    "df['Bottle Name'] = df['Bottle Name'].str.replace(r' \\d\\d\\dML| \\d\\d\\dmL','').str.replace(r' \\(\\d\\d\\dML\\)| \\(\\d\\d\\d ML\\)','')"
   ]
  },
  {
   "cell_type": "markdown",
   "metadata": {},
   "source": [
    "#### Names UPPER to Lower"
   ]
  },
  {
   "cell_type": "code",
   "execution_count": 112,
   "metadata": {},
   "outputs": [],
   "source": [
    "for col in ['Bottle Name', 'Brand','Agave', 'Style', 'Destillation', 'Mezcalero', 'State', 'Town']:\n",
    "    df[col] = df[col].str.replace(r'( +)',' ').str.replace(r'( $|^ )','')\n",
    "    for idx in df.index:\n",
    "        df[col].loc[idx] = ' '.join([word[0].upper() + word[1:]  for word in str(df[col].loc[idx]).lower().split(' ')])"
   ]
  },
  {
   "cell_type": "markdown",
   "metadata": {},
   "source": [
    "#### Rating"
   ]
  },
  {
   "cell_type": "code",
   "execution_count": 113,
   "metadata": {},
   "outputs": [],
   "source": [
    "df['Rating_MR'] = df['Rating_MR'].astype(str).str.extract(r'(\\d\\.\\d|\\d)').astype(float).replace(0,np.nan)\n",
    "df['Rating_OT'] = df['Rating_OT'].astype(str).str.extract(r'(\\d\\.\\d|\\d)').astype(float).replace(0,np.nan)\n",
    "df['Rating_DZ'] = df['Rating_DZ'].astype(str).str.extract(r'(\\d\\.\\d|\\d)').astype(float).replace(0,np.nan)"
   ]
  },
  {
   "cell_type": "code",
   "execution_count": 114,
   "metadata": {},
   "outputs": [],
   "source": [
    "df['AVG Rating'] = df[['Rating_OT','Rating_MR','Rating_DZ']].mean(axis=1).round(1)"
   ]
  },
  {
   "cell_type": "markdown",
   "metadata": {},
   "source": [
    "#### Right cols sequence"
   ]
  },
  {
   "cell_type": "code",
   "execution_count": 115,
   "metadata": {},
   "outputs": [],
   "source": [
    "from df2gspread import gspread2df as g2d\n",
    "#temp = g2d.download(gfile=spreadsheet_key, wks_name = 'Blended Data', credentials=credentials, col_names=True, row_names=True)"
   ]
  },
  {
   "cell_type": "markdown",
   "metadata": {},
   "source": [
    "#### Price"
   ]
  },
  {
   "cell_type": "code",
   "execution_count": 116,
   "metadata": {},
   "outputs": [],
   "source": [
    "df['Price_TW'] = df['Price_TW'].str.extract(r'(\\d+\\.\\d+|\\d+)').astype(float)\n",
    "df['Price_ML'] = df['Price_ML'].str.extract(r'(\\d+\\.\\d+|\\d+)').astype(float)\n",
    "df['Price_DZ'] = df['Price_DZ'].str.extract(r'(\\d+\\.\\d+|\\d+)').astype(float)\n",
    "df['Price_OT'] = df['Price_OT'].str.extract(r'(\\d+\\.\\d+|\\d+)').astype(float)\n",
    "\n",
    "fill_MZ = df['Price_MZ'].astype(str).str.extract(r'(\\d+)')\n",
    "df['Price_MZ'] = df['Price_MZ'].astype(str).str.extract(r'((?<=-)\\d+)').fillna(fill_MZ).astype(float)"
   ]
  },
  {
   "cell_type": "code",
   "execution_count": 117,
   "metadata": {},
   "outputs": [],
   "source": [
    "df['AVG Price'] = df[['Price_TW','Price_ML','Price_DZ','Price_OT','Price_LE','Price_BD', 'Price_MD']].mean(axis=1).round(0)"
   ]
  },
  {
   "cell_type": "code",
   "execution_count": 118,
   "metadata": {},
   "outputs": [],
   "source": [
    "df['AVG Price'].fillna(df['Price_MZ'], inplace=True)"
   ]
  },
  {
   "cell_type": "code",
   "execution_count": 119,
   "metadata": {},
   "outputs": [
    {
     "data": {
      "text/plain": [
       "299"
      ]
     },
     "execution_count": 119,
     "metadata": {},
     "output_type": "execute_result"
    }
   ],
   "source": [
    "df['AVG Price'].isna().sum()"
   ]
  },
  {
   "cell_type": "markdown",
   "metadata": {},
   "source": [
    "#### Region"
   ]
  },
  {
   "cell_type": "code",
   "execution_count": 120,
   "metadata": {},
   "outputs": [],
   "source": [
    "df['State'].fillna(df['Region_LE'], inplace=True)\n",
    "df.drop(columns=['Region_LE'], inplace=True)"
   ]
  },
  {
   "cell_type": "markdown",
   "metadata": {},
   "source": [
    "#### Links"
   ]
  },
  {
   "cell_type": "code",
   "execution_count": 121,
   "metadata": {},
   "outputs": [],
   "source": [
    "df['Bottle Links'] = pd.Series([''])\n",
    "link_cols = ['Bottle Link_DZ','Bottle Link_ML', 'Bottle Link_MZ', 'Bottle Link_OT','Bottle Link_TW', \n",
    "             'Bottle_link_MR', 'Bottle Link_LE', 'Bottle Link_LE', 'Bottle Link_BD', 'Bottle_Link_MD']\n",
    "for col in link_cols:\n",
    "    df['Bottle Links'] = df[col].fillna('') + ' ; ' + df['Bottle Links'].fillna('')\n",
    "df['Bottle Links'] = df['Bottle Links'].str.replace(r'([ ; ]+)',' ; ').str.replace(r'( ; $)','').str.replace(r'(^ ; )','')"
   ]
  },
  {
   "cell_type": "markdown",
   "metadata": {},
   "source": [
    "#### Images"
   ]
  },
  {
   "cell_type": "code",
   "execution_count": 122,
   "metadata": {},
   "outputs": [],
   "source": [
    "df['Image Links'] = pd.Series([''])\n",
    "link_cols = ['Image_MR', 'Image_OT','Image_DZ', 'Image_ML','Image_MZ', 'Image_TW','Image_LE','Image_MD','Image_BD']\n",
    "for col in link_cols:\n",
    "    df['Image Links'] = df[col].fillna('').astype(str) + ' ; ' + df['Image Links'].fillna('')\n",
    "df['Image Links'] = df['Image Links'].str.replace(r'([ ; ]+)',' ; ').str.replace(r'( ; $)','').str.replace(r'(^ ; )','')"
   ]
  },
  {
   "cell_type": "code",
   "execution_count": 123,
   "metadata": {},
   "outputs": [],
   "source": [
    "df = df.replace({'Nan':np.nan})\n",
    "df = df.replace({'nan':np.nan})"
   ]
  },
  {
   "cell_type": "markdown",
   "metadata": {},
   "source": [
    "# To GS"
   ]
  },
  {
   "cell_type": "code",
   "execution_count": 129,
   "metadata": {},
   "outputs": [],
   "source": [
    "import json\n",
    "import gspread\n",
    "from oauth2client.service_account import ServiceAccountCredentials\n",
    "from df2gspread import df2gspread as d2g\n",
    "scope = ['https://spreadsheets.google.com/feeds'] \n",
    "credentials = ServiceAccountCredentials.from_json_keyfile_name('jupyter-sheets-270906-86a657daa9f6.json', scope) \n",
    "gc = gspread.authorize(credentials)\n",
    "spreadsheet_key = '1KBlFSr2JDLz13XLduYzLvhMJNqYbUiyjzffmzNjghnw'"
   ]
  },
  {
   "cell_type": "code",
   "execution_count": 131,
   "metadata": {},
   "outputs": [],
   "source": [
    "right_cols = ['Bottle Name','Brand','AVG Price', 'AVG Rating', 'Agave', 'Style', 'ABV', 'Destillation', 'Mezcalero', \n",
    "              'State','Town', 'NOM', 'Brand Website', 'Bottle Links','Image Links','Origin', \n",
    "              'Match_MR', 'Match_OT', 'Match_DRZL','Match_MZ', 'Match_ML', 'Match_TW','Match_LE','Match_BD','Match_MD',\n",
    "              'Price_DZ', 'Price_ML', 'Price_MZ','Price_OT', 'Price_TW', 'Price_LE', 'Price_MD', 'Price_BD',\n",
    "              'Rating_DZ', 'Rating_MR', 'Rating_OT', \n",
    "              'Bottle Link_DZ', 'Bottle Link_ML', 'Bottle Link_MZ', 'Bottle Link_OT','Bottle Link_LE',\n",
    "              'Bottle Link_TW', 'Bottle_link_MR','Bottle_Link_MD','Bottle Link_BD', 'Image_MR','Image_OT', 'Image_DZ', 'Image_ML',\n",
    "              'Image_MZ', 'Image_TW', 'Image_LE', 'Image_MD', 'Image_BD']"
   ]
  },
  {
   "cell_type": "code",
   "execution_count": 125,
   "metadata": {},
   "outputs": [
    {
     "data": {
      "text/html": [
       "<div>\n",
       "<style scoped>\n",
       "    .dataframe tbody tr th:only-of-type {\n",
       "        vertical-align: middle;\n",
       "    }\n",
       "\n",
       "    .dataframe tbody tr th {\n",
       "        vertical-align: top;\n",
       "    }\n",
       "\n",
       "    .dataframe thead th {\n",
       "        text-align: right;\n",
       "    }\n",
       "</style>\n",
       "<table border=\"1\" class=\"dataframe\">\n",
       "  <thead>\n",
       "    <tr style=\"text-align: right;\">\n",
       "      <th></th>\n",
       "      <th>Bottle Name</th>\n",
       "      <th>Origin</th>\n",
       "      <th>Match_MR</th>\n",
       "      <th>Match_OT</th>\n",
       "      <th>Match_DRZL</th>\n",
       "      <th>Match_MZ</th>\n",
       "      <th>Match_ML</th>\n",
       "      <th>Match_TW</th>\n",
       "      <th>ABV</th>\n",
       "      <th>Agave</th>\n",
       "      <th>Bottle Link_BD</th>\n",
       "      <th>Bottle Link_DZ</th>\n",
       "      <th>Bottle Link_LE</th>\n",
       "      <th>Bottle Link_ML</th>\n",
       "      <th>Bottle Link_MZ</th>\n",
       "      <th>Bottle Link_OT</th>\n",
       "      <th>Bottle Link_TW</th>\n",
       "      <th>Bottle Volume_BD</th>\n",
       "      <th>Bottle Volume_MD</th>\n",
       "      <th>Bottle ml_DZ</th>\n",
       "      <th>Bottle ml_TW</th>\n",
       "      <th>Bottle-two ml_DZ</th>\n",
       "      <th>Bottle_Link_MD</th>\n",
       "      <th>Bottle_Volume_LE</th>\n",
       "      <th>Bottle_link_MR</th>\n",
       "      <th>Brand</th>\n",
       "      <th>Destillation</th>\n",
       "      <th>Image_MR</th>\n",
       "      <th>Image_BD</th>\n",
       "      <th>Image_DZ</th>\n",
       "      <th>Image_LE</th>\n",
       "      <th>Image_MD</th>\n",
       "      <th>Image_ML</th>\n",
       "      <th>Image_MZ</th>\n",
       "      <th>Image_OT</th>\n",
       "      <th>Image_TW</th>\n",
       "      <th>Match_BD</th>\n",
       "      <th>Match_LE</th>\n",
       "      <th>Match_MD</th>\n",
       "      <th>Mezcalero</th>\n",
       "      <th>NOM</th>\n",
       "      <th>Price-two_DZ</th>\n",
       "      <th>Price_BD</th>\n",
       "      <th>Price_DZ</th>\n",
       "      <th>Price_LE</th>\n",
       "      <th>Price_MD</th>\n",
       "      <th>Price_ML</th>\n",
       "      <th>Price_MR</th>\n",
       "      <th>Price_MZ</th>\n",
       "      <th>Price_OT</th>\n",
       "      <th>Price_TW</th>\n",
       "      <th>Rating_DZ</th>\n",
       "      <th>Rating_MR</th>\n",
       "      <th>Rating_OT</th>\n",
       "      <th>State</th>\n",
       "      <th>Style</th>\n",
       "      <th>Town</th>\n",
       "      <th>Brand Website</th>\n",
       "      <th>AVG Rating</th>\n",
       "      <th>AVG Price</th>\n",
       "      <th>Bottle Links</th>\n",
       "      <th>Image Links</th>\n",
       "    </tr>\n",
       "  </thead>\n",
       "  <tbody>\n",
       "    <tr>\n",
       "      <th>0</th>\n",
       "      <td>Cuish Tobala</td>\n",
       "      <td>MR</td>\n",
       "      <td>NaN</td>\n",
       "      <td>NaN</td>\n",
       "      <td>NaN</td>\n",
       "      <td>NaN</td>\n",
       "      <td>NaN</td>\n",
       "      <td>NaN</td>\n",
       "      <td>48.0</td>\n",
       "      <td>Tobala</td>\n",
       "      <td>NaN</td>\n",
       "      <td>NaN</td>\n",
       "      <td>NaN</td>\n",
       "      <td>NaN</td>\n",
       "      <td>NaN</td>\n",
       "      <td>NaN</td>\n",
       "      <td>NaN</td>\n",
       "      <td>NaN</td>\n",
       "      <td>NaN</td>\n",
       "      <td>NaN</td>\n",
       "      <td>NaN</td>\n",
       "      <td>NaN</td>\n",
       "      <td>NaN</td>\n",
       "      <td>NaN</td>\n",
       "      <td>https://www.mezcalreviews.com/mezcal/cuish-tob...</td>\n",
       "      <td>Cuish Mezcales</td>\n",
       "      <td>Copper</td>\n",
       "      <td>https://www.mezcalreviews.com/wp-content/uploa...</td>\n",
       "      <td>NaN</td>\n",
       "      <td>NaN</td>\n",
       "      <td>NaN</td>\n",
       "      <td>NaN</td>\n",
       "      <td>NaN</td>\n",
       "      <td>NaN</td>\n",
       "      <td>NaN</td>\n",
       "      <td>NaN</td>\n",
       "      <td>NaN</td>\n",
       "      <td>NaN</td>\n",
       "      <td>NaN</td>\n",
       "      <td>Berta Vasquez</td>\n",
       "      <td>NOM-O606X</td>\n",
       "      <td>NaN</td>\n",
       "      <td>NaN</td>\n",
       "      <td>NaN</td>\n",
       "      <td>NaN</td>\n",
       "      <td>NaN</td>\n",
       "      <td>NaN</td>\n",
       "      <td>NaN</td>\n",
       "      <td>NaN</td>\n",
       "      <td>NaN</td>\n",
       "      <td>NaN</td>\n",
       "      <td>NaN</td>\n",
       "      <td>NaN</td>\n",
       "      <td>NaN</td>\n",
       "      <td>Oaxaca</td>\n",
       "      <td>Joven</td>\n",
       "      <td>San Baltazar Chichicapam</td>\n",
       "      <td>http://www.mezcalescuish.mx/</td>\n",
       "      <td>NaN</td>\n",
       "      <td>NaN</td>\n",
       "      <td>https://www.mezcalreviews.com/mezcal/cuish-tob...</td>\n",
       "      <td>https://www.mezcalreviews.com/wp-content/uploa...</td>\n",
       "    </tr>\n",
       "  </tbody>\n",
       "</table>\n",
       "</div>"
      ],
      "text/plain": [
       "    Bottle Name Origin Match_MR Match_OT Match_DRZL Match_MZ Match_ML  \\\n",
       "0  Cuish Tobala     MR      NaN      NaN        NaN      NaN      NaN   \n",
       "\n",
       "  Match_TW   ABV   Agave Bottle Link_BD Bottle Link_DZ Bottle Link_LE  \\\n",
       "0      NaN  48.0  Tobala            NaN            NaN            NaN   \n",
       "\n",
       "  Bottle Link_ML Bottle Link_MZ Bottle Link_OT Bottle Link_TW  \\\n",
       "0            NaN            NaN            NaN            NaN   \n",
       "\n",
       "  Bottle Volume_BD Bottle Volume_MD Bottle ml_DZ Bottle ml_TW  \\\n",
       "0              NaN              NaN          NaN          NaN   \n",
       "\n",
       "  Bottle-two ml_DZ Bottle_Link_MD Bottle_Volume_LE  \\\n",
       "0              NaN            NaN              NaN   \n",
       "\n",
       "                                      Bottle_link_MR           Brand  \\\n",
       "0  https://www.mezcalreviews.com/mezcal/cuish-tob...  Cuish Mezcales   \n",
       "\n",
       "  Destillation                                           Image_MR Image_BD  \\\n",
       "0       Copper  https://www.mezcalreviews.com/wp-content/uploa...      NaN   \n",
       "\n",
       "  Image_DZ Image_LE Image_MD Image_ML Image_MZ Image_OT Image_TW Match_BD  \\\n",
       "0      NaN      NaN      NaN      NaN      NaN      NaN      NaN      NaN   \n",
       "\n",
       "  Match_LE Match_MD      Mezcalero        NOM Price-two_DZ  Price_BD  \\\n",
       "0      NaN      NaN  Berta Vasquez  NOM-O606X          NaN       NaN   \n",
       "\n",
       "   Price_DZ  Price_LE  Price_MD  Price_ML  Price_MR  Price_MZ  Price_OT  \\\n",
       "0       NaN       NaN       NaN       NaN       NaN       NaN       NaN   \n",
       "\n",
       "   Price_TW  Rating_DZ  Rating_MR  Rating_OT   State  Style  \\\n",
       "0       NaN        NaN        NaN        NaN  Oaxaca  Joven   \n",
       "\n",
       "                       Town                 Brand Website  AVG Rating  \\\n",
       "0  San Baltazar Chichicapam  http://www.mezcalescuish.mx/         NaN   \n",
       "\n",
       "   AVG Price                                       Bottle Links  \\\n",
       "0        NaN  https://www.mezcalreviews.com/mezcal/cuish-tob...   \n",
       "\n",
       "                                         Image Links  \n",
       "0  https://www.mezcalreviews.com/wp-content/uploa...  "
      ]
     },
     "execution_count": 125,
     "metadata": {},
     "output_type": "execute_result"
    }
   ],
   "source": [
    "df.head(1)"
   ]
  },
  {
   "cell_type": "code",
   "execution_count": 132,
   "metadata": {},
   "outputs": [
    {
     "data": {
      "text/plain": [
       "(1144, 54)"
      ]
     },
     "execution_count": 132,
     "metadata": {},
     "output_type": "execute_result"
    }
   ],
   "source": [
    "to_sheets = df[right_cols].fillna('-').copy()\n",
    "to_sheets.shape"
   ]
  },
  {
   "cell_type": "code",
   "execution_count": 133,
   "metadata": {},
   "outputs": [
    {
     "data": {
      "text/plain": [
       "<Worksheet 'Blended Data' id:1279664021>"
      ]
     },
     "execution_count": 133,
     "metadata": {},
     "output_type": "execute_result"
    }
   ],
   "source": [
    "wks_name = 'Blended Data'\n",
    "d2g.upload(to_sheets,\n",
    "           spreadsheet_key,\n",
    "           wks_name,\n",
    "           credentials=credentials,\n",
    "           col_names=True,\n",
    "           row_names=False,\n",
    "           start_cell = 'A1',\n",
    "           clean=False)"
   ]
  }
 ],
 "metadata": {
  "kernelspec": {
   "display_name": "Python 3",
   "language": "python",
   "name": "python3"
  },
  "language_info": {
   "codemirror_mode": {
    "name": "ipython",
    "version": 3
   },
   "file_extension": ".py",
   "mimetype": "text/x-python",
   "name": "python",
   "nbconvert_exporter": "python",
   "pygments_lexer": "ipython3",
   "version": "3.7.5"
  }
 },
 "nbformat": 4,
 "nbformat_minor": 4
}
